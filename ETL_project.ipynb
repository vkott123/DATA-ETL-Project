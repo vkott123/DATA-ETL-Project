{
 "cells": [
  {
   "cell_type": "code",
   "execution_count": null,
   "metadata": {},
   "outputs": [],
   "source": [
    "# Dependencies and Setup\n",
    "import pandas as pd\n",
    "\n",
    "# File to Load (Remember to Change These)\n",
    "crime_data= \"Resources/crime.csv\"\n",
    "education_data = \"Resources/education.csv\"\n",
    "ethnicity_data = \"Resources/ethnicity.csv\"\n",
    "unemployment_data = \"Resources/unemployment.csv\"\n",
    "population_data = \"Resources/population.csv\"\n",
    "\n",
    "\n",
    "# Read School and Student Data File and store into Pandas Data Frames\n",
    "crime = pd.read_csv(crime_data)\n",
    "education = pd.read_csv(education_data)\n",
    "ethnicity = pd.read_csv(ethnicity_data)\n",
    "unemployment = pd.read_csv(unemployment_data)\n",
    "population = pd.read_csv(population_data)\n",
    "\n",
    "# Combine the data into a single dataset\n",
    "# school_data_complete = pd.merge(student_data, school_data, how=\"left\", on=[\"school_name\", \"school_name\"])"
   ]
  }
 ],
 "metadata": {
  "kernelspec": {
   "display_name": "Python 3",
   "language": "python",
   "name": "python3"
  },
  "language_info": {
   "codemirror_mode": {
    "name": "ipython",
    "version": 3
   },
   "file_extension": ".py",
   "mimetype": "text/x-python",
   "name": "python",
   "nbconvert_exporter": "python",
   "pygments_lexer": "ipython3",
   "version": "3.7.3"
  }
 },
 "nbformat": 4,
 "nbformat_minor": 2
}
